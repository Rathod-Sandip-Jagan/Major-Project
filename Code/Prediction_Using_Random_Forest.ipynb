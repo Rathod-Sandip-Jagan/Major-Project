{
  "cells": [
    {
      "cell_type": "code",
      "execution_count": 4,
      "metadata": {
        "colab": {
          "base_uri": "https://localhost:8080/"
        },
        "id": "O1hftMR_LqKk",
        "outputId": "22202dd8-1791-4821-af63-bd015f178f5c"
      },
      "outputs": [
        {
          "name": "stderr",
          "output_type": "stream",
          "text": [
            "<>:8: SyntaxWarning: invalid escape sequence '\\M'\n",
            "<>:8: SyntaxWarning: invalid escape sequence '\\M'\n",
            "C:\\Users\\sr737\\AppData\\Local\\Temp\\ipykernel_10200\\2575953587.py:8: SyntaxWarning: invalid escape sequence '\\M'\n",
            "  dataset = pd.read_csv('E:\\Major Project\\Data\\Only_few_dates.csv')\n"
          ]
        },
        {
          "name": "stdout",
          "output_type": "stream",
          "text": [
            "\n",
            "Predicted Price for Potato on 2027-06-05 is: 24.25\n"
          ]
        }
      ],
      "source": [
        "import pandas as pd\n",
        "import numpy as np\n",
        "from sklearn.ensemble import RandomForestRegressor\n",
        "from datetime import datetime\n",
        "import sys\n",
        "\n",
        "# Load dataset\n",
        "dataset = pd.read_csv('E:\\Major Project\\Data\\Only_few_dates.csv')\n",
        "x = np.delete(dataset.iloc[:, 0:8].values, 5, axis=1)\n",
        "y = dataset.iloc[:, 8].values\n",
        "\n",
        "# Train the model\n",
        "regressor = RandomForestRegressor(n_estimators=100, random_state=0)\n",
        "regressor.fit(x, y)\n",
        "\n",
        "# Vegetable mapping\n",
        "vegetable_mapping = {\n",
        "    'tomato': 1,\n",
        "    'potato': 2,\n",
        "    'onion': 3,\n",
        "    'cabbage': 4,\n",
        "    'cauliflower': 5,\n",
        "}\n",
        "\n",
        "# Season mapping based on month\n",
        "def get_season_from_month(month):\n",
        "    if month in [1, 2, 11, 12]:\n",
        "        return 1  # Winter\n",
        "    elif month in [3, 4, 5, 6]:\n",
        "        return 2  # Summer\n",
        "    elif month in [7, 8, 9, 10]:\n",
        "        return 3  # Monsoon\n",
        "    else:\n",
        "        return 0  # Unknown (default fallback)\n",
        "\n",
        "# Take inputs\n",
        "veg_name = input(\"Enter the vegetable name: \").strip().lower()\n",
        "\n",
        "if veg_name in vegetable_mapping:\n",
        "    vegetable = vegetable_mapping[veg_name]\n",
        "else:\n",
        "    print(\"Vegetable not found in database.\")\n",
        "    sys.exit()\n",
        "\n",
        "# Date input\n",
        "date_input = input(\"Enter date (YYYY-MM-DD): \")\n",
        "try:\n",
        "    date_obj = datetime.strptime(date_input, \"%Y-%m-%d\")\n",
        "    day = date_obj.day\n",
        "    month = date_obj.month\n",
        "    season = get_season_from_month(month)\n",
        "except ValueError:\n",
        "    print(\"Invalid date format. Use YYYY-MM-DD.\")\n",
        "    sys.exit()\n",
        "\n",
        "# Other inputs\n",
        "festival = int(input(\"Is there a festival? (1 for Yes, 0 for No): \"))\n",
        "rainfall = float(input(\"Enter rainfall amount: \"))\n",
        "avg_prev5 = float(input(\"Enter average price of previous 5 days: \"))\n",
        "arrival = float(input(\"Enter arrival amount (in tons): \"))\n",
        "\n",
        "user_input = np.array([day, vegetable, festival, rainfall, season, avg_prev5, arrival]).reshape(1, -1)\n",
        "\n",
        "# Predict\n",
        "predicted_price = regressor.predict(user_input)\n",
        "\n",
        "print(f\"\\nPredicted Price for {veg_name.title()} on {date_input} is: {predicted_price[0]:.2f}\")\n"
      ]
    }
  ],
  "metadata": {
    "colab": {
      "provenance": []
    },
    "kernelspec": {
      "display_name": "Python 3",
      "name": "python3"
    },
    "language_info": {
      "codemirror_mode": {
        "name": "ipython",
        "version": 3
      },
      "file_extension": ".py",
      "mimetype": "text/x-python",
      "name": "python",
      "nbconvert_exporter": "python",
      "pygments_lexer": "ipython3",
      "version": "3.12.0"
    }
  },
  "nbformat": 4,
  "nbformat_minor": 0
}
