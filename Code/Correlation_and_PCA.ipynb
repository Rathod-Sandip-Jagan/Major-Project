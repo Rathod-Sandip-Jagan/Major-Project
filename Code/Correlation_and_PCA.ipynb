{
  "nbformat": 4,
  "nbformat_minor": 0,
  "metadata": {
    "colab": {
      "provenance": []
    },
    "kernelspec": {
      "name": "python3",
      "display_name": "Python 3"
    },
    "language_info": {
      "name": "python"
    }
  },
  "cells": [
    {
      "cell_type": "code",
      "execution_count": null,
      "metadata": {
        "colab": {
          "base_uri": "https://localhost:8080/"
        },
        "id": "NvH99EbBMzkY",
        "outputId": "f8db49c0-ce8f-4859-95a4-dac82e91ddb0"
      },
      "outputs": [
        {
          "output_type": "stream",
          "name": "stdout",
          "text": [
            "                                   Date  Vegetable  Festival  \\\n",
            "Date                           1.000000        NaN  0.006351   \n",
            "Vegetable                           NaN        NaN       NaN   \n",
            "Festival                       0.006351        NaN  1.000000   \n",
            "Rainfall (in mm)               0.118510        NaN -0.022692   \n",
            "Season                         0.934027        NaN -0.088339   \n",
            "Inflation                      0.845804        NaN -0.037067   \n",
            "Average of prev 5 days Potato -0.787208        NaN  0.012187   \n",
            "Potato Arrival (In Tonnes)     0.628056        NaN  0.031039   \n",
            "Potato Price (Rounded)        -0.795517        NaN -0.083708   \n",
            "\n",
            "                               Rainfall (in mm)    Season  Inflation  \\\n",
            "Date                                   0.118510  0.934027   0.845804   \n",
            "Vegetable                                   NaN       NaN        NaN   \n",
            "Festival                              -0.022692 -0.088339  -0.037067   \n",
            "Rainfall (in mm)                       1.000000  0.173748   0.225450   \n",
            "Season                                 0.173748  1.000000   0.872772   \n",
            "Inflation                              0.225450  0.872772   1.000000   \n",
            "Average of prev 5 days Potato         -0.117408 -0.736025  -0.753804   \n",
            "Potato Arrival (In Tonnes)            -0.063868  0.569750   0.486918   \n",
            "Potato Price (Rounded)                -0.134637 -0.702133  -0.748126   \n",
            "\n",
            "                               Average of prev 5 days Potato  \\\n",
            "Date                                               -0.787208   \n",
            "Vegetable                                                NaN   \n",
            "Festival                                            0.012187   \n",
            "Rainfall (in mm)                                   -0.117408   \n",
            "Season                                             -0.736025   \n",
            "Inflation                                          -0.753804   \n",
            "Average of prev 5 days Potato                       1.000000   \n",
            "Potato Arrival (In Tonnes)                         -0.496352   \n",
            "Potato Price (Rounded)                              0.884264   \n",
            "\n",
            "                               Potato Arrival (In Tonnes)  \\\n",
            "Date                                             0.628056   \n",
            "Vegetable                                             NaN   \n",
            "Festival                                         0.031039   \n",
            "Rainfall (in mm)                                -0.063868   \n",
            "Season                                           0.569750   \n",
            "Inflation                                        0.486918   \n",
            "Average of prev 5 days Potato                   -0.496352   \n",
            "Potato Arrival (In Tonnes)                       1.000000   \n",
            "Potato Price (Rounded)                          -0.616517   \n",
            "\n",
            "                               Potato Price (Rounded)  \n",
            "Date                                        -0.795517  \n",
            "Vegetable                                         NaN  \n",
            "Festival                                    -0.083708  \n",
            "Rainfall (in mm)                            -0.134637  \n",
            "Season                                      -0.702133  \n",
            "Inflation                                   -0.748126  \n",
            "Average of prev 5 days Potato                0.884264  \n",
            "Potato Arrival (In Tonnes)                  -0.616517  \n",
            "Potato Price (Rounded)                       1.000000  \n",
            "\n",
            "\n",
            "[5.63099925e-01 1.58023804e-01 1.36093565e-01 7.21414571e-02\n",
            " 4.28761789e-02 2.06890874e-02 7.07598302e-03 3.82599085e-34]\n"
          ]
        }
      ],
      "source": [
        "\n",
        "import numpy as np\n",
        "import pandas as pd\n",
        "import matplotlib as mpl\n",
        "import matplotlib.pyplot as plt\n",
        "import seaborn as sns\n",
        "#get_ipython().run_line_magic('matplotlib', 'inline')\n",
        "\n",
        "df = pd.read_csv('/content/Only_few_dates.csv')\n",
        "print(df.corr())\n",
        "\n",
        "X = df.drop('Potato Price (Rounded)', axis=1)\n",
        "y = df['Potato Price (Rounded)']\n",
        "from sklearn.model_selection import train_test_split\n",
        "\n",
        "X_train, X_test, y_train, y_test = train_test_split(X, y, test_size=0.2, random_state=0)\n",
        "from sklearn.preprocessing import StandardScaler\n",
        "\n",
        "sc = StandardScaler()\n",
        "X_train = sc.fit_transform(X_train)\n",
        "X_test = sc.transform(X_test)\n",
        "from sklearn.decomposition import PCA\n",
        "\n",
        "pca = PCA()\n",
        "X_train = pca.fit_transform(X_train)\n",
        "X_test = pca.transform(X_test)\n",
        "explained_variance = pca.explained_variance_ratio_\n",
        "print('\\n')\n",
        "\n",
        "print(explained_variance)\n",
        "\n",
        "\n",
        "\n",
        "\n",
        "\n"
      ]
    }
  ]
}